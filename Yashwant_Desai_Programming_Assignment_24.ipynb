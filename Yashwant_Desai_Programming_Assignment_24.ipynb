{
 "cells": [
  {
   "cell_type": "markdown",
   "id": "0c27a818",
   "metadata": {},
   "source": [
    "# Yashwant Desai –  Programming_Assingment 24"
   ]
  },
  {
   "cell_type": "markdown",
   "id": "9f377b0f",
   "metadata": {},
   "source": [
    "# Question 1"
   ]
  },
  {
   "cell_type": "markdown",
   "id": "4ad3bab3",
   "metadata": {},
   "source": [
    "Create a function that takes an integer and returns a list from 1 to the given number, where:\n",
    "1.\tIf the number can be divided evenly by 4, amplify it by 10 (i.e. return 10 times the number).\n",
    "2.\tIf the number cannot be divided evenly by 4, simply return the number.\n",
    "Examples\n",
    "amplify(4) ➞ [1, 2, 3, 40]\n",
    "\n",
    "amplify(3) ➞ [1, 2, 3]\n",
    "\n",
    "amplify(25) ➞ [1, 2, 3, 40, 5, 6, 7, 80, 9, 10, 11, 120, 13, 14, 15, 160, 17, 18, 19, 200, 21, 22, 23, 240, 25]\n",
    "Notes\n",
    "•\tThe given integer will always be equal to or greater than 1.\n",
    "•\tInclude the number (see example above).\n",
    "•\tTo perform this problem with its intended purpose, try doing it with list comprehensions. If that's too difficult, just solve the challenge any way you can.\n"
   ]
  },
  {
   "cell_type": "code",
   "execution_count": 4,
   "id": "5a72c8fe",
   "metadata": {},
   "outputs": [
    {
     "name": "stdout",
     "output_type": "stream",
     "text": [
      "amplify(4) ➞ [1, 2, 3, 40]\n",
      "amplify(3) ➞ [1, 2, 3]\n",
      "amplify(25) ➞ [1, 2, 3, 40, 5, 6, 7, 80, 9, 10, 11, 120, 13, 14, 15, 160, 17, 18, 19, 200, 21, 22, 23, 240, 25]\n"
     ]
    }
   ],
   "source": [
    "def amplify(n):\n",
    "    return [x * 10 if x % 4 == 0 else x for x in range(1, n + 1)]\n",
    "print(f\"amplify(4) ➞ {amplify(4)}\")\n",
    "print(f\"amplify(3) ➞ {amplify(3)}\")\n",
    "print(f\"amplify(25) ➞ {amplify(25)}\")"
   ]
  },
  {
   "cell_type": "markdown",
   "id": "255d3839",
   "metadata": {},
   "source": [
    "# Question2"
   ]
  },
  {
   "cell_type": "markdown",
   "id": "fef76bb7",
   "metadata": {},
   "source": [
    "Create a function that takes a list of numbers and return the number that's unique.\n",
    "Examples\n",
    "unique([3, 3, 3, 7, 3, 3]) ➞ 7\n",
    "\n",
    "unique([0, 0, 0.77, 0, 0]) ➞ 0.77\n",
    "\n",
    "unique([0, 1, 1, 1, 1, 1, 1, 1]) ➞ 0\n",
    "Notes\n",
    "Test cases will always have exactly one unique number while all others are the same."
   ]
  },
  {
   "cell_type": "code",
   "execution_count": 7,
   "id": "db38f689",
   "metadata": {},
   "outputs": [
    {
     "name": "stdout",
     "output_type": "stream",
     "text": [
      "unique([3, 3, 3, 7, 3, 3]) ➞ 7\n",
      "unique([0, 0, 0.77, 0, 0]) ➞ 0.77\n",
      "unique([0, 1, 1, 1, 1, 1, 1, 1]) ➞ 0\n"
     ]
    }
   ],
   "source": [
    "def unique(numbers):\n",
    "    unique_num = None\n",
    "    for num in numbers:\n",
    "        if numbers.count(num) == 1:\n",
    "            unique_num = num\n",
    "            break\n",
    "    return unique_num\n",
    "print(f\"unique([3, 3, 3, 7, 3, 3]) ➞ {unique([3, 3, 3, 7, 3, 3])}\")      \n",
    "print(f\"unique([0, 0, 0.77, 0, 0]) ➞ {unique([0, 0, 0.77, 0, 0])}\")      \n",
    "print(f\"unique([0, 1, 1, 1, 1, 1, 1, 1]) ➞ {unique([0, 1, 1, 1, 1, 1, 1, 1])}\")"
   ]
  },
  {
   "cell_type": "markdown",
   "id": "2db39b7d",
   "metadata": {},
   "source": [
    "# Question3"
   ]
  },
  {
   "cell_type": "markdown",
   "id": "ce8a54b1",
   "metadata": {},
   "source": [
    "Your task is to create a Circle constructor that creates a circle with a radius provided by an argument. The circles constructed must have two getters getArea() (PIr^2) and getPerimeter() (2PI*r) which give both respective areas and perimeter (circumference).\n",
    "For help with this class, I have provided you with a Rectangle constructor which you can use as a base example.\n",
    "Examples\n",
    "circy = Circle(11)\n",
    "circy.getArea()\n",
    "\n",
    "-- Should return 380.132711084365\n",
    "\n",
    "circy = Circle(4.44)\n",
    "circy.getPerimeter()\n",
    "\n",
    "-- Should return 27.897342763877365\n",
    "Notes\n",
    "Round results up to the nearest integer."
   ]
  },
  {
   "cell_type": "code",
   "execution_count": 14,
   "id": "2b0036af",
   "metadata": {},
   "outputs": [
    {
     "name": "stdout",
     "output_type": "stream",
     "text": [
      "circy.getArea(11) ➞ 380\n",
      "circy.getPerimeter(11) 69\n",
      "circy.getArea(4.44) ➞ 62\n",
      "circy.getPerimeter(4.44) ➞ 28\n"
     ]
    }
   ],
   "source": [
    "import math\n",
    "class Circle:\n",
    "    def __init__(self, radius):\n",
    "        self.radius = radius\n",
    "    def getArea(self):\n",
    "        return round(math.pi * self.radius ** 2)\n",
    "    def getPerimeter(self):\n",
    "        return round(2 * math.pi * self.radius)\n",
    "circy = Circle(11)\n",
    "print(f\"circy.getArea(11) ➞ {circy.getArea()}\")\n",
    "print(f\"circy.getPerimeter(11) {circy.getPerimeter()}\")\n",
    "circy = Circle(4.44)\n",
    "print(f\"circy.getArea(4.44) ➞ {circy.getArea()}\")\n",
    "print(f\"circy.getPerimeter(4.44) ➞ {circy.getPerimeter()}\")"
   ]
  },
  {
   "cell_type": "markdown",
   "id": "5eac9e18",
   "metadata": {},
   "source": [
    "# Question4"
   ]
  },
  {
   "cell_type": "markdown",
   "id": "b9be013d",
   "metadata": {},
   "source": [
    "Create a function that takes a list of strings and return a list, sorted from shortest to longest.\n",
    "Examples\n",
    "sort_by_length([\"Google\", \"Apple\", \"Microsoft\"])\n",
    "➞ [\"Apple\", \"Google\", \"Microsoft\"]\n",
    "\n",
    "sort_by_length([\"Leonardo\", \"Michelangelo\", \"Raphael\", \"Donatello\"])\n",
    "➞ [\"Raphael\", \"Leonardo\", \"Donatello\", \"Michelangelo\"]\n",
    "\n",
    "sort_by_length([\"Turing\", \"Einstein\", \"Jung\"])\n",
    "➞ [\"Jung\", \"Turing\", \"Einstein\"]\n",
    "Notes\n",
    "All test cases contain lists with strings of different lengths, so you won't have to deal with multiple strings of the same length."
   ]
  },
  {
   "cell_type": "code",
   "execution_count": 17,
   "id": "943b4308",
   "metadata": {},
   "outputs": [
    {
     "name": "stdout",
     "output_type": "stream",
     "text": [
      "sort_by_length([\"Google\", \"Apple\", \"Microsoft\"]) ➞ ['Apple', 'Google', 'Microsoft']\n",
      "sort_by_length([\"Leonardo\", \"Michelangelo\", \"Raphael\", \"Donatello\"]) ➞ ['Raphael', 'Leonardo', 'Donatello', 'Michelangelo']\n",
      "sort_by_length([\"Turing\", \"Einstein\", \"Jung\"]) ➞ ['Jung', 'Turing', 'Einstein']\n"
     ]
    }
   ],
   "source": [
    "def sort_by_length(strings):\n",
    "    return sorted(strings, key=len)\n",
    "print(f\"\"\"sort_by_length([\"Google\", \"Apple\", \"Microsoft\"]) ➞ {sort_by_length([\"Google\", \"Apple\", \"Microsoft\"])}\"\"\") \n",
    "print(f\"\"\"sort_by_length([\"Leonardo\", \"Michelangelo\", \"Raphael\", \"Donatello\"]) ➞ {sort_by_length([\"Leonardo\", \"Michelangelo\", \"Raphael\", \"Donatello\"])}\"\"\") \n",
    "print(f\"\"\"sort_by_length([\"Turing\", \"Einstein\", \"Jung\"]) ➞ {sort_by_length([\"Turing\", \"Einstein\", \"Jung\"])}\"\"\") "
   ]
  },
  {
   "cell_type": "markdown",
   "id": "b656f2ea",
   "metadata": {},
   "source": [
    "# Question5"
   ]
  },
  {
   "cell_type": "markdown",
   "id": "e814f2cf",
   "metadata": {},
   "source": [
    "Create a function that validates whether three given integers form a Pythagorean triplet. The sum of the squares of the two smallest integers must equal the square of the largest number to be validated.\n",
    "\n",
    "\n",
    "Examples\n",
    "is_triplet(3, 4, 5) ➞ True\n",
    "-- 3² + 4² = 25\n",
    "-- 5² = 25\n",
    "\n",
    "is_triplet(13, 5, 12) ➞ True\n",
    "-- 5² + 12² = 169\n",
    "-- 13² = 169\n",
    "\n",
    "is_triplet(1, 2, 3) ➞ False\n",
    "-- 1² + 2² = 5\n",
    "-- 3² = 9\n",
    "Notes\n",
    "Numbers may not be given in a sorted order."
   ]
  },
  {
   "cell_type": "code",
   "execution_count": 18,
   "id": "6af1448c",
   "metadata": {},
   "outputs": [
    {
     "name": "stdout",
     "output_type": "stream",
     "text": [
      "is_triplet(3, 4, 5) ➞ True\n",
      "is_triplet(13, 5, 12) ➞ True\n",
      "is_triplet(1, 2, 3) ➞ False\n"
     ]
    }
   ],
   "source": [
    "def is_triplet(a, b, c):\n",
    "    sides = [a, b, c]\n",
    "    sides.sort()\n",
    "    return sides[0] ** 2 + sides[1] ** 2 == sides[2] ** 2\n",
    "print(f\"is_triplet(3, 4, 5) ➞ {is_triplet(3, 4, 5)}\")\n",
    "print(f\"is_triplet(13, 5, 12) ➞ {is_triplet(13, 5, 12)}\")\n",
    "print(f\"is_triplet(1, 2, 3) ➞ {is_triplet(1, 2, 3)}\")"
   ]
  },
  {
   "cell_type": "markdown",
   "id": "a79c0885",
   "metadata": {},
   "source": [
    "# Done Regards,Yashwant"
   ]
  }
 ],
 "metadata": {
  "kernelspec": {
   "display_name": "Python 3 (ipykernel)",
   "language": "python",
   "name": "python3"
  },
  "language_info": {
   "codemirror_mode": {
    "name": "ipython",
    "version": 3
   },
   "file_extension": ".py",
   "mimetype": "text/x-python",
   "name": "python",
   "nbconvert_exporter": "python",
   "pygments_lexer": "ipython3",
   "version": "3.9.13"
  }
 },
 "nbformat": 4,
 "nbformat_minor": 5
}
